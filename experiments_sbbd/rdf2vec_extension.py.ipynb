{
 "cells": [
  {
   "cell_type": "code",
   "execution_count": 1,
   "metadata": {},
   "outputs": [
    {
     "name": "stderr",
     "output_type": "stream",
     "text": [
      "Using TensorFlow backend.\n"
     ]
    }
   ],
   "source": [
    "import pandas as pd\n",
    "import numpy as np\n",
    "from keras.preprocessing.sequence import pad_sequences\n",
    "from keras.preprocessing.text import Tokenizer, text_to_word_sequence\n",
    "from tqdm import tqdm\n",
    "from keras.utils import to_categorical\n",
    "from copy import copy\n",
    "import tensorflow as tf"
   ]
  },
  {
   "cell_type": "code",
   "execution_count": 2,
   "metadata": {},
   "outputs": [],
   "source": [
    "data_sample_class = pd.read_pickle('rdf2vec_data/data_classes_entities')"
   ]
  },
  {
   "cell_type": "code",
   "execution_count": 3,
   "metadata": {},
   "outputs": [],
   "source": [
    "data_sample_vectors = pd.read_pickle('rdf2vec_data/data_vectors_entities')"
   ]
  },
  {
   "cell_type": "code",
   "execution_count": 4,
   "metadata": {},
   "outputs": [
    {
     "data": {
      "text/plain": [
       "array([ 0.06882069,  0.5259999 , -0.73323894, -0.43727952,  0.67447037,\n",
       "        0.09834116, -0.46560106, -0.74799967,  0.02877666,  0.20510344,\n",
       "        0.08196632, -0.02526115,  0.082765  , -0.41797048,  0.38921273,\n",
       "        0.46458974,  0.47773632, -0.02372607,  0.0720956 , -0.24251032,\n",
       "        0.06313052,  0.51026374,  0.6961665 ,  0.30973288,  0.31848267,\n",
       "       -0.17720169, -0.2878234 ,  0.84214514,  0.6483063 ,  0.07255545,\n",
       "       -0.29008368, -0.03906672,  0.60482574, -0.30301204, -0.39025444,\n",
       "        0.06448072,  0.0690306 ,  0.04224071, -0.3442633 ,  0.07604404,\n",
       "       -0.39567846, -0.09069009, -0.11476668,  0.32522783, -0.7187306 ,\n",
       "       -0.58294624,  0.17802882, -0.4518249 , -0.03866209,  0.39672926,\n",
       "       -0.5056423 ,  0.2016288 , -0.1805237 , -0.05329222,  0.78987116,\n",
       "        0.56669897,  0.20621787,  0.1247419 , -0.08690415, -0.59782195,\n",
       "        0.16341485, -0.29417554,  0.32382002,  0.22989944,  0.28220245,\n",
       "       -0.38468555, -0.29087123,  0.17276445,  0.1912825 ,  0.00972014,\n",
       "        0.1298702 ,  0.63866603,  0.39203706,  0.3304724 ,  0.5135735 ,\n",
       "        0.01158808,  0.04431578,  0.45439598, -0.08630957,  0.45796984,\n",
       "       -0.3263853 , -0.21819183, -0.21530688, -0.19512051, -0.27073064,\n",
       "       -0.12734729,  0.05808004,  0.72492206,  0.06022853, -0.23814496,\n",
       "        0.00697337,  0.1859893 , -0.37525862, -0.5000276 , -0.10482045,\n",
       "        0.33114105, -0.39578727,  0.35027778,  0.7150724 , -0.3895155 ,\n",
       "       -0.20204172,  0.5172459 ,  0.7587996 , -0.22392926,  0.11199988,\n",
       "       -0.41586664, -0.12328325, -0.12754504,  0.33053783, -0.53998613,\n",
       "        0.42946064, -0.57994485, -0.12587105, -0.20926286,  0.38083425,\n",
       "        0.06230876, -0.19072622,  0.375741  ,  0.26738024,  0.26470813,\n",
       "       -0.7831807 ,  0.19924057,  0.22864556,  0.01810154,  0.2632311 ,\n",
       "        0.18213893, -0.21899393, -0.2231212 ,  0.2807888 ,  1.2905893 ,\n",
       "        0.07758912, -0.06902882, -0.3267333 , -0.20831719, -0.3842916 ,\n",
       "       -0.17163458, -0.83650726,  0.15095405,  0.07781968, -0.11684268,\n",
       "        0.37808326,  0.6826314 ,  0.29895696, -0.19960901,  0.118599  ,\n",
       "        0.23307236,  0.16297165, -0.34884673, -0.17849682,  0.20848265,\n",
       "        0.07815382,  0.06349187,  0.41664615,  0.45110664,  0.5336322 ,\n",
       "        0.5728878 , -0.12716718,  0.06463709, -0.16821681, -0.31025386,\n",
       "        0.2074607 , -0.41987795, -0.5536644 , -0.43554032, -0.08212881,\n",
       "       -0.05151491, -0.16181941, -0.07588636,  0.04128007, -0.15932107,\n",
       "        0.31230363,  0.14166224,  0.2479318 , -0.17094566, -0.30106753,\n",
       "       -0.06055004, -0.80481505,  0.22443113,  0.19491789, -0.4906766 ,\n",
       "        0.09143405, -0.3229105 ,  0.16495802, -0.07578541, -0.434863  ,\n",
       "        0.13291228,  0.40446088,  0.32600182,  0.01999137, -0.08486117,\n",
       "       -0.08974479,  0.1280939 , -0.19316085, -0.5302996 , -0.10377768,\n",
       "        0.597113  ,  0.3659631 , -0.17034006, -0.10156529,  0.9567341 ],\n",
       "      dtype=float32)"
      ]
     },
     "execution_count": 4,
     "metadata": {},
     "output_type": "execute_result"
    }
   ],
   "source": [
    "data_sample_vectors[0]"
   ]
  },
  {
   "cell_type": "code",
   "execution_count": 5,
   "metadata": {},
   "outputs": [
    {
     "data": {
      "text/plain": [
       "['Cyclist', 'Person', 'Athlete', 'Agent']"
      ]
     },
     "execution_count": 5,
     "metadata": {},
     "output_type": "execute_result"
    }
   ],
   "source": [
    "data_sample_class[0]"
   ]
  },
  {
   "cell_type": "code",
   "execution_count": 6,
   "metadata": {},
   "outputs": [],
   "source": [
    "from sklearn.preprocessing import MultiLabelBinarizer\n",
    "\n",
    "mlb = MultiLabelBinarizer()\n",
    "\n",
    "y = mlb.fit_transform(data_sample_class)"
   ]
  },
  {
   "cell_type": "code",
   "execution_count": 7,
   "metadata": {},
   "outputs": [
    {
     "data": {
      "text/plain": [
       "(455,)"
      ]
     },
     "execution_count": 7,
     "metadata": {},
     "output_type": "execute_result"
    }
   ],
   "source": [
    "y[0].shape"
   ]
  },
  {
   "cell_type": "code",
   "execution_count": 8,
   "metadata": {},
   "outputs": [],
   "source": [
    "from sklearn.model_selection import train_test_split\n",
    "\n",
    "x_train,x_test,y_train,y_test = train_test_split(np.array(data_sample_vectors),y,test_size=0.10, random_state=42)\n",
    "\n",
    "x_train,x_val,y_train,y_val = train_test_split(x_train,y_train, test_size=0.2,random_state=42)"
   ]
  },
  {
   "cell_type": "code",
   "execution_count": 9,
   "metadata": {},
   "outputs": [],
   "source": [
    "from keras.layers import Input, Dense,Dropout\n",
    "from keras.layers.merge import concatenate\n",
    "from keras.regularizers import l2\n",
    "from keras.models import Model, Sequential\n",
    "from keras.callbacks import ModelCheckpoint"
   ]
  },
  {
   "cell_type": "code",
   "execution_count": 12,
   "metadata": {},
   "outputs": [
    {
     "name": "stdout",
     "output_type": "stream",
     "text": [
      "_________________________________________________________________\n",
      "Layer (type)                 Output Shape              Param #   \n",
      "=================================================================\n",
      "input_data (InputLayer)      (None, 200)               0         \n",
      "_________________________________________________________________\n",
      "dense_5 (Dense)              (None, 256)               51456     \n",
      "_________________________________________________________________\n",
      "dense_6 (Dense)              (None, 128)               32896     \n",
      "_________________________________________________________________\n",
      "dense_7 (Dense)              (None, 64)                8256      \n",
      "_________________________________________________________________\n",
      "dropout_2 (Dropout)          (None, 64)                0         \n",
      "_________________________________________________________________\n",
      "dense_8 (Dense)              (None, 455)               29575     \n",
      "=================================================================\n",
      "Total params: 122,183\n",
      "Trainable params: 122,183\n",
      "Non-trainable params: 0\n",
      "_________________________________________________________________\n"
     ]
    }
   ],
   "source": [
    "input_data = Input(shape=(200,), name='input_data')\n",
    "\n",
    "fc1 = Dense(256,activation='relu')(input_data)\n",
    "\n",
    "fc2 = Dense(128, activation='relu')(fc1)\n",
    "\n",
    "fc3 = Dense(64, activation='relu')(fc2)\n",
    "\n",
    "fc3 = Dropout(.15)(fc3)\n",
    "\n",
    "fc4 = Dense(455, activation='sigmoid')(fc3)\n",
    "\n",
    "model_mlp = Model(input_data, fc4)\n",
    "\n",
    "model_mlp.compile(loss='binary_crossentropy',\n",
    "              optimizer='adam',\n",
    "              metrics=['acc'])\n",
    "model_mlp.summary()\n"
   ]
  },
  {
   "cell_type": "code",
   "execution_count": 13,
   "metadata": {},
   "outputs": [
    {
     "name": "stdout",
     "output_type": "stream",
     "text": [
      "Train on 253850 samples, validate on 63463 samples\n",
      "Epoch 1/50\n",
      "253376/253850 [============================>.] - ETA: 0s - loss: 0.0166 - acc: 0.9948Epoch 00001: val_acc improved from -inf to 0.99781, saving model to weights-best-model-rdf2vec.hdf5\n",
      "253850/253850 [==============================] - 24s 95us/step - loss: 0.0166 - acc: 0.9948 - val_loss: 0.0064 - val_acc: 0.9978\n",
      "Epoch 2/50\n",
      "253760/253850 [============================>.] - ETA: 0s - loss: 0.0062 - acc: 0.9979Epoch 00002: val_acc improved from 0.99781 to 0.99837, saving model to weights-best-model-rdf2vec.hdf5\n",
      "253850/253850 [==============================] - 23s 92us/step - loss: 0.0062 - acc: 0.9979 - val_loss: 0.0048 - val_acc: 0.9984\n",
      "Epoch 3/50\n",
      "253440/253850 [============================>.] - ETA: 0s - loss: 0.0048 - acc: 0.9983Epoch 00003: val_acc improved from 0.99837 to 0.99864, saving model to weights-best-model-rdf2vec.hdf5\n",
      "253850/253850 [==============================] - 23s 92us/step - loss: 0.0048 - acc: 0.9983 - val_loss: 0.0040 - val_acc: 0.9986\n",
      "Epoch 4/50\n",
      "253376/253850 [============================>.] - ETA: 0s - loss: 0.0042 - acc: 0.9986Epoch 00004: val_acc improved from 0.99864 to 0.99873, saving model to weights-best-model-rdf2vec.hdf5\n",
      "253850/253850 [==============================] - 23s 91us/step - loss: 0.0042 - acc: 0.9986 - val_loss: 0.0038 - val_acc: 0.9987\n",
      "Epoch 5/50\n",
      "253632/253850 [============================>.] - ETA: 0s - loss: 0.0037 - acc: 0.9987Epoch 00005: val_acc improved from 0.99873 to 0.99883, saving model to weights-best-model-rdf2vec.hdf5\n",
      "253850/253850 [==============================] - 23s 91us/step - loss: 0.0037 - acc: 0.9987 - val_loss: 0.0035 - val_acc: 0.9988\n",
      "Epoch 6/50\n",
      "253248/253850 [============================>.] - ETA: 0s - loss: 0.0034 - acc: 0.9988Epoch 00006: val_acc improved from 0.99883 to 0.99889, saving model to weights-best-model-rdf2vec.hdf5\n",
      "253850/253850 [==============================] - 23s 91us/step - loss: 0.0034 - acc: 0.9988 - val_loss: 0.0034 - val_acc: 0.9989\n",
      "Epoch 7/50\n",
      "253760/253850 [============================>.] - ETA: 0s - loss: 0.0032 - acc: 0.9989Epoch 00007: val_acc improved from 0.99889 to 0.99889, saving model to weights-best-model-rdf2vec.hdf5\n",
      "253850/253850 [==============================] - 23s 92us/step - loss: 0.0032 - acc: 0.9989 - val_loss: 0.0033 - val_acc: 0.9989\n",
      "Epoch 8/50\n",
      "253696/253850 [============================>.] - ETA: 0s - loss: 0.0030 - acc: 0.9990Epoch 00008: val_acc improved from 0.99889 to 0.99894, saving model to weights-best-model-rdf2vec.hdf5\n",
      "253850/253850 [==============================] - 23s 92us/step - loss: 0.0030 - acc: 0.9990 - val_loss: 0.0032 - val_acc: 0.9989\n",
      "Epoch 9/50\n",
      "253376/253850 [============================>.] - ETA: 0s - loss: 0.0029 - acc: 0.9990Epoch 00009: val_acc improved from 0.99894 to 0.99895, saving model to weights-best-model-rdf2vec.hdf5\n",
      "253850/253850 [==============================] - 23s 92us/step - loss: 0.0029 - acc: 0.9990 - val_loss: 0.0033 - val_acc: 0.9989\n",
      "Epoch 10/50\n",
      "253760/253850 [============================>.] - ETA: 0s - loss: 0.0028 - acc: 0.9990Epoch 00010: val_acc improved from 0.99895 to 0.99897, saving model to weights-best-model-rdf2vec.hdf5\n",
      "253850/253850 [==============================] - 23s 92us/step - loss: 0.0028 - acc: 0.9990 - val_loss: 0.0032 - val_acc: 0.9990\n",
      "Epoch 11/50\n",
      "253312/253850 [============================>.] - ETA: 0s - loss: 0.0027 - acc: 0.9991Epoch 00011: val_acc improved from 0.99897 to 0.99899, saving model to weights-best-model-rdf2vec.hdf5\n",
      "253850/253850 [==============================] - 23s 92us/step - loss: 0.0027 - acc: 0.9991 - val_loss: 0.0032 - val_acc: 0.9990\n",
      "Epoch 12/50\n",
      "253376/253850 [============================>.] - ETA: 0s - loss: 0.0026 - acc: 0.9991Epoch 00012: val_acc did not improve\n",
      "253850/253850 [==============================] - 23s 92us/step - loss: 0.0026 - acc: 0.9991 - val_loss: 0.0033 - val_acc: 0.9990\n",
      "Epoch 13/50\n",
      "253376/253850 [============================>.] - ETA: 0s - loss: 0.0025 - acc: 0.9991Epoch 00013: val_acc improved from 0.99899 to 0.99900, saving model to weights-best-model-rdf2vec.hdf5\n",
      "253850/253850 [==============================] - 24s 93us/step - loss: 0.0025 - acc: 0.9991 - val_loss: 0.0032 - val_acc: 0.9990\n",
      "Epoch 14/50\n",
      "253760/253850 [============================>.] - ETA: 0s - loss: 0.0024 - acc: 0.9992Epoch 00014: val_acc improved from 0.99900 to 0.99901, saving model to weights-best-model-rdf2vec.hdf5\n",
      "253850/253850 [==============================] - 23s 92us/step - loss: 0.0024 - acc: 0.9992 - val_loss: 0.0033 - val_acc: 0.9990\n",
      "Epoch 15/50\n",
      "253248/253850 [============================>.] - ETA: 0s - loss: 0.0024 - acc: 0.9992Epoch 00015: val_acc did not improve\n",
      "253850/253850 [==============================] - 23s 92us/step - loss: 0.0024 - acc: 0.9992 - val_loss: 0.0033 - val_acc: 0.9990\n",
      "Epoch 16/50\n",
      "253760/253850 [============================>.] - ETA: 0s - loss: 0.0023 - acc: 0.9992Epoch 00016: val_acc improved from 0.99901 to 0.99902, saving model to weights-best-model-rdf2vec.hdf5\n",
      "253850/253850 [==============================] - 23s 92us/step - loss: 0.0023 - acc: 0.9992 - val_loss: 0.0033 - val_acc: 0.9990\n",
      "Epoch 17/50\n",
      " 84864/253850 [=========>....................] - ETA: 14s - loss: 0.0022 - acc: 0.9992"
     ]
    },
    {
     "ename": "KeyboardInterrupt",
     "evalue": "",
     "output_type": "error",
     "traceback": [
      "\u001b[0;31m---------------------------------------------------------------------------\u001b[0m",
      "\u001b[0;31mKeyboardInterrupt\u001b[0m                         Traceback (most recent call last)",
      "\u001b[0;32m<ipython-input-13-7e79ad58a741>\u001b[0m in \u001b[0;36m<module>\u001b[0;34m()\u001b[0m\n\u001b[1;32m      1\u001b[0m \u001b[0mcheckpoint\u001b[0m \u001b[0;34m=\u001b[0m \u001b[0mModelCheckpoint\u001b[0m\u001b[0;34m(\u001b[0m\u001b[0;34m'weights-best-model-rdf2vec.hdf5'\u001b[0m\u001b[0;34m,\u001b[0m \u001b[0mmonitor\u001b[0m\u001b[0;34m=\u001b[0m\u001b[0;34m'val_acc'\u001b[0m\u001b[0;34m,\u001b[0m \u001b[0mverbose\u001b[0m\u001b[0;34m=\u001b[0m\u001b[0;36m1\u001b[0m\u001b[0;34m,\u001b[0m \u001b[0msave_best_only\u001b[0m\u001b[0;34m=\u001b[0m\u001b[0;32mTrue\u001b[0m\u001b[0;34m,\u001b[0m \u001b[0mmode\u001b[0m\u001b[0;34m=\u001b[0m\u001b[0;34m'max'\u001b[0m\u001b[0;34m)\u001b[0m\u001b[0;34m\u001b[0m\u001b[0;34m\u001b[0m\u001b[0m\n\u001b[1;32m      2\u001b[0m \u001b[0mcallbacks_list\u001b[0m \u001b[0;34m=\u001b[0m \u001b[0;34m[\u001b[0m\u001b[0mcheckpoint\u001b[0m\u001b[0;34m]\u001b[0m\u001b[0;34m\u001b[0m\u001b[0;34m\u001b[0m\u001b[0m\n\u001b[0;32m----> 3\u001b[0;31m \u001b[0mmodel_mlp\u001b[0m\u001b[0;34m.\u001b[0m\u001b[0mfit\u001b[0m\u001b[0;34m(\u001b[0m\u001b[0mx_train\u001b[0m\u001b[0;34m,\u001b[0m \u001b[0my_train\u001b[0m\u001b[0;34m,\u001b[0m \u001b[0mbatch_size\u001b[0m\u001b[0;34m=\u001b[0m\u001b[0;36m64\u001b[0m\u001b[0;34m,\u001b[0m \u001b[0mepochs\u001b[0m\u001b[0;34m=\u001b[0m\u001b[0;36m50\u001b[0m\u001b[0;34m,\u001b[0m\u001b[0mvalidation_data\u001b[0m\u001b[0;34m=\u001b[0m\u001b[0;34m(\u001b[0m\u001b[0mx_val\u001b[0m\u001b[0;34m,\u001b[0m\u001b[0my_val\u001b[0m\u001b[0;34m)\u001b[0m\u001b[0;34m,\u001b[0m\u001b[0mverbose\u001b[0m\u001b[0;34m=\u001b[0m\u001b[0;36m1\u001b[0m\u001b[0;34m,\u001b[0m\u001b[0mcallbacks\u001b[0m\u001b[0;34m=\u001b[0m\u001b[0mcallbacks_list\u001b[0m\u001b[0;34m)\u001b[0m\u001b[0;34m\u001b[0m\u001b[0;34m\u001b[0m\u001b[0m\n\u001b[0m",
      "\u001b[0;32m~/anaconda/envs/michael_env/lib/python3.6/site-packages/keras/engine/training.py\u001b[0m in \u001b[0;36mfit\u001b[0;34m(self, x, y, batch_size, epochs, verbose, callbacks, validation_split, validation_data, shuffle, class_weight, sample_weight, initial_epoch, steps_per_epoch, validation_steps, **kwargs)\u001b[0m\n\u001b[1;32m   1655\u001b[0m                               \u001b[0minitial_epoch\u001b[0m\u001b[0;34m=\u001b[0m\u001b[0minitial_epoch\u001b[0m\u001b[0;34m,\u001b[0m\u001b[0;34m\u001b[0m\u001b[0;34m\u001b[0m\u001b[0m\n\u001b[1;32m   1656\u001b[0m                               \u001b[0msteps_per_epoch\u001b[0m\u001b[0;34m=\u001b[0m\u001b[0msteps_per_epoch\u001b[0m\u001b[0;34m,\u001b[0m\u001b[0;34m\u001b[0m\u001b[0;34m\u001b[0m\u001b[0m\n\u001b[0;32m-> 1657\u001b[0;31m                               validation_steps=validation_steps)\n\u001b[0m\u001b[1;32m   1658\u001b[0m \u001b[0;34m\u001b[0m\u001b[0m\n\u001b[1;32m   1659\u001b[0m     def evaluate(self, x=None, y=None,\n",
      "\u001b[0;32m~/anaconda/envs/michael_env/lib/python3.6/site-packages/keras/engine/training.py\u001b[0m in \u001b[0;36m_fit_loop\u001b[0;34m(self, f, ins, out_labels, batch_size, epochs, verbose, callbacks, val_f, val_ins, shuffle, callback_metrics, initial_epoch, steps_per_epoch, validation_steps)\u001b[0m\n\u001b[1;32m   1211\u001b[0m                     \u001b[0mbatch_logs\u001b[0m\u001b[0;34m[\u001b[0m\u001b[0;34m'size'\u001b[0m\u001b[0;34m]\u001b[0m \u001b[0;34m=\u001b[0m \u001b[0mlen\u001b[0m\u001b[0;34m(\u001b[0m\u001b[0mbatch_ids\u001b[0m\u001b[0;34m)\u001b[0m\u001b[0;34m\u001b[0m\u001b[0;34m\u001b[0m\u001b[0m\n\u001b[1;32m   1212\u001b[0m                     \u001b[0mcallbacks\u001b[0m\u001b[0;34m.\u001b[0m\u001b[0mon_batch_begin\u001b[0m\u001b[0;34m(\u001b[0m\u001b[0mbatch_index\u001b[0m\u001b[0;34m,\u001b[0m \u001b[0mbatch_logs\u001b[0m\u001b[0;34m)\u001b[0m\u001b[0;34m\u001b[0m\u001b[0;34m\u001b[0m\u001b[0m\n\u001b[0;32m-> 1213\u001b[0;31m                     \u001b[0mouts\u001b[0m \u001b[0;34m=\u001b[0m \u001b[0mf\u001b[0m\u001b[0;34m(\u001b[0m\u001b[0mins_batch\u001b[0m\u001b[0;34m)\u001b[0m\u001b[0;34m\u001b[0m\u001b[0;34m\u001b[0m\u001b[0m\n\u001b[0m\u001b[1;32m   1214\u001b[0m                     \u001b[0;32mif\u001b[0m \u001b[0;32mnot\u001b[0m \u001b[0misinstance\u001b[0m\u001b[0;34m(\u001b[0m\u001b[0mouts\u001b[0m\u001b[0;34m,\u001b[0m \u001b[0mlist\u001b[0m\u001b[0;34m)\u001b[0m\u001b[0;34m:\u001b[0m\u001b[0;34m\u001b[0m\u001b[0;34m\u001b[0m\u001b[0m\n\u001b[1;32m   1215\u001b[0m                         \u001b[0mouts\u001b[0m \u001b[0;34m=\u001b[0m \u001b[0;34m[\u001b[0m\u001b[0mouts\u001b[0m\u001b[0;34m]\u001b[0m\u001b[0;34m\u001b[0m\u001b[0;34m\u001b[0m\u001b[0m\n",
      "\u001b[0;32m~/anaconda/envs/michael_env/lib/python3.6/site-packages/keras/backend/tensorflow_backend.py\u001b[0m in \u001b[0;36m__call__\u001b[0;34m(self, inputs)\u001b[0m\n\u001b[1;32m   2355\u001b[0m         \u001b[0msession\u001b[0m \u001b[0;34m=\u001b[0m \u001b[0mget_session\u001b[0m\u001b[0;34m(\u001b[0m\u001b[0;34m)\u001b[0m\u001b[0;34m\u001b[0m\u001b[0;34m\u001b[0m\u001b[0m\n\u001b[1;32m   2356\u001b[0m         updated = session.run(fetches=fetches, feed_dict=feed_dict,\n\u001b[0;32m-> 2357\u001b[0;31m                               **self.session_kwargs)\n\u001b[0m\u001b[1;32m   2358\u001b[0m         \u001b[0;32mreturn\u001b[0m \u001b[0mupdated\u001b[0m\u001b[0;34m[\u001b[0m\u001b[0;34m:\u001b[0m\u001b[0mlen\u001b[0m\u001b[0;34m(\u001b[0m\u001b[0mself\u001b[0m\u001b[0;34m.\u001b[0m\u001b[0moutputs\u001b[0m\u001b[0;34m)\u001b[0m\u001b[0;34m]\u001b[0m\u001b[0;34m\u001b[0m\u001b[0;34m\u001b[0m\u001b[0m\n\u001b[1;32m   2359\u001b[0m \u001b[0;34m\u001b[0m\u001b[0m\n",
      "\u001b[0;32m~/anaconda/envs/michael_env/lib/python3.6/site-packages/tensorflow/python/client/session.py\u001b[0m in \u001b[0;36mrun\u001b[0;34m(self, fetches, feed_dict, options, run_metadata)\u001b[0m\n\u001b[1;32m    893\u001b[0m     \u001b[0;32mtry\u001b[0m\u001b[0;34m:\u001b[0m\u001b[0;34m\u001b[0m\u001b[0;34m\u001b[0m\u001b[0m\n\u001b[1;32m    894\u001b[0m       result = self._run(None, fetches, feed_dict, options_ptr,\n\u001b[0;32m--> 895\u001b[0;31m                          run_metadata_ptr)\n\u001b[0m\u001b[1;32m    896\u001b[0m       \u001b[0;32mif\u001b[0m \u001b[0mrun_metadata\u001b[0m\u001b[0;34m:\u001b[0m\u001b[0;34m\u001b[0m\u001b[0;34m\u001b[0m\u001b[0m\n\u001b[1;32m    897\u001b[0m         \u001b[0mproto_data\u001b[0m \u001b[0;34m=\u001b[0m \u001b[0mtf_session\u001b[0m\u001b[0;34m.\u001b[0m\u001b[0mTF_GetBuffer\u001b[0m\u001b[0;34m(\u001b[0m\u001b[0mrun_metadata_ptr\u001b[0m\u001b[0;34m)\u001b[0m\u001b[0;34m\u001b[0m\u001b[0;34m\u001b[0m\u001b[0m\n",
      "\u001b[0;32m~/anaconda/envs/michael_env/lib/python3.6/site-packages/tensorflow/python/client/session.py\u001b[0m in \u001b[0;36m_run\u001b[0;34m(self, handle, fetches, feed_dict, options, run_metadata)\u001b[0m\n\u001b[1;32m   1094\u001b[0m \u001b[0;34m\u001b[0m\u001b[0m\n\u001b[1;32m   1095\u001b[0m           if (not is_tensor_handle_feed and\n\u001b[0;32m-> 1096\u001b[0;31m               not subfeed_t.get_shape().is_compatible_with(np_val.shape)):\n\u001b[0m\u001b[1;32m   1097\u001b[0m             raise ValueError(\n\u001b[1;32m   1098\u001b[0m                 \u001b[0;34m'Cannot feed value of shape %r for Tensor %r, '\u001b[0m\u001b[0;34m\u001b[0m\u001b[0;34m\u001b[0m\u001b[0m\n",
      "\u001b[0;32m~/anaconda/envs/michael_env/lib/python3.6/site-packages/tensorflow/python/framework/tensor_shape.py\u001b[0m in \u001b[0;36mis_compatible_with\u001b[0;34m(self, other)\u001b[0m\n\u001b[1;32m    715\u001b[0m     \u001b[0mother\u001b[0m \u001b[0;34m=\u001b[0m \u001b[0mas_shape\u001b[0m\u001b[0;34m(\u001b[0m\u001b[0mother\u001b[0m\u001b[0;34m)\u001b[0m\u001b[0;34m\u001b[0m\u001b[0;34m\u001b[0m\u001b[0m\n\u001b[1;32m    716\u001b[0m     \u001b[0;32mif\u001b[0m \u001b[0mself\u001b[0m\u001b[0;34m.\u001b[0m\u001b[0m_dims\u001b[0m \u001b[0;32mis\u001b[0m \u001b[0;32mnot\u001b[0m \u001b[0;32mNone\u001b[0m \u001b[0;32mand\u001b[0m \u001b[0mother\u001b[0m\u001b[0;34m.\u001b[0m\u001b[0mdims\u001b[0m \u001b[0;32mis\u001b[0m \u001b[0;32mnot\u001b[0m \u001b[0;32mNone\u001b[0m\u001b[0;34m:\u001b[0m\u001b[0;34m\u001b[0m\u001b[0;34m\u001b[0m\u001b[0m\n\u001b[0;32m--> 717\u001b[0;31m       \u001b[0;32mif\u001b[0m \u001b[0mself\u001b[0m\u001b[0;34m.\u001b[0m\u001b[0mndims\u001b[0m \u001b[0;34m!=\u001b[0m \u001b[0mother\u001b[0m\u001b[0;34m.\u001b[0m\u001b[0mndims\u001b[0m\u001b[0;34m:\u001b[0m\u001b[0;34m\u001b[0m\u001b[0;34m\u001b[0m\u001b[0m\n\u001b[0m\u001b[1;32m    718\u001b[0m         \u001b[0;32mreturn\u001b[0m \u001b[0;32mFalse\u001b[0m\u001b[0;34m\u001b[0m\u001b[0;34m\u001b[0m\u001b[0m\n\u001b[1;32m    719\u001b[0m       \u001b[0;32mfor\u001b[0m \u001b[0mx_dim\u001b[0m\u001b[0;34m,\u001b[0m \u001b[0my_dim\u001b[0m \u001b[0;32min\u001b[0m \u001b[0mzip\u001b[0m\u001b[0;34m(\u001b[0m\u001b[0mself\u001b[0m\u001b[0;34m.\u001b[0m\u001b[0m_dims\u001b[0m\u001b[0;34m,\u001b[0m \u001b[0mother\u001b[0m\u001b[0;34m.\u001b[0m\u001b[0mdims\u001b[0m\u001b[0;34m)\u001b[0m\u001b[0;34m:\u001b[0m\u001b[0;34m\u001b[0m\u001b[0;34m\u001b[0m\u001b[0m\n",
      "\u001b[0;32m~/anaconda/envs/michael_env/lib/python3.6/site-packages/tensorflow/python/framework/tensor_shape.py\u001b[0m in \u001b[0;36mndims\u001b[0;34m(self)\u001b[0m\n\u001b[1;32m    461\u001b[0m       \u001b[0;32mreturn\u001b[0m \u001b[0;32mNone\u001b[0m\u001b[0;34m\u001b[0m\u001b[0;34m\u001b[0m\u001b[0m\n\u001b[1;32m    462\u001b[0m     \u001b[0;32melse\u001b[0m\u001b[0;34m:\u001b[0m\u001b[0;34m\u001b[0m\u001b[0;34m\u001b[0m\u001b[0m\n\u001b[0;32m--> 463\u001b[0;31m       \u001b[0;32mreturn\u001b[0m \u001b[0mlen\u001b[0m\u001b[0;34m(\u001b[0m\u001b[0mself\u001b[0m\u001b[0;34m.\u001b[0m\u001b[0m_dims\u001b[0m\u001b[0;34m)\u001b[0m\u001b[0;34m\u001b[0m\u001b[0;34m\u001b[0m\u001b[0m\n\u001b[0m\u001b[1;32m    464\u001b[0m \u001b[0;34m\u001b[0m\u001b[0m\n\u001b[1;32m    465\u001b[0m   \u001b[0;32mdef\u001b[0m \u001b[0m__len__\u001b[0m\u001b[0;34m(\u001b[0m\u001b[0mself\u001b[0m\u001b[0;34m)\u001b[0m\u001b[0;34m:\u001b[0m\u001b[0;34m\u001b[0m\u001b[0;34m\u001b[0m\u001b[0m\n",
      "\u001b[0;31mKeyboardInterrupt\u001b[0m: "
     ]
    }
   ],
   "source": [
    "checkpoint = ModelCheckpoint('weights-best-model-rdf2vec.hdf5', monitor='val_acc', verbose=1, save_best_only=True, mode='max')\n",
    "callbacks_list = [checkpoint]\n",
    "model_mlp.fit(x_train, y_train, batch_size=64, epochs=50,validation_data=(x_val,y_val),verbose=1,callbacks=callbacks_list)\n"
   ]
  },
  {
   "cell_type": "code",
   "execution_count": 71,
   "metadata": {},
   "outputs": [
    {
     "name": "stdout",
     "output_type": "stream",
     "text": [
      "35258/35258 [==============================] - 2s 61us/step\n"
     ]
    },
    {
     "data": {
      "text/plain": [
       "[0.003353652922126277, 0.9990029591711781]"
      ]
     },
     "execution_count": 71,
     "metadata": {},
     "output_type": "execute_result"
    }
   ],
   "source": [
    "model_mlp.load_weights('weights-best-model-rdf2vec.hdf5')\n",
    "model_mlp.evaluate(x_test, y_test)"
   ]
  },
  {
   "cell_type": "code",
   "execution_count": 177,
   "metadata": {},
   "outputs": [],
   "source": [
    "vector_test = data_sample_vectors[283238]"
   ]
  },
  {
   "cell_type": "code",
   "execution_count": 190,
   "metadata": {},
   "outputs": [],
   "source": [
    "predict = model_mlp.predict(x_test)"
   ]
  },
  {
   "cell_type": "code",
   "execution_count": 200,
   "metadata": {},
   "outputs": [],
   "source": [
    "predict = model_mlp.predict(vector_test.reshape(1,-1))"
   ]
  },
  {
   "cell_type": "code",
   "execution_count": 201,
   "metadata": {},
   "outputs": [
    {
     "data": {
      "text/plain": [
       "array([[9.41784268e-32, 0.00000000e+00, 2.07388942e-33, 7.76002935e-27,\n",
       "        1.08606229e-02, 9.31103374e-32, 2.26360542e-04, 9.99997973e-01,\n",
       "        1.51999297e-36, 0.00000000e+00, 0.00000000e+00, 1.22188338e-23,\n",
       "        3.86665419e-24, 4.32535952e-14, 2.91200045e-37, 4.35440638e-21,\n",
       "        0.00000000e+00, 0.00000000e+00, 0.00000000e+00, 4.98189998e-24,\n",
       "        1.02881044e-32, 3.48316305e-21, 4.59882735e-25, 0.00000000e+00,\n",
       "        1.65570499e-37, 1.53912634e-08, 3.52500957e-24, 5.74304970e-36,\n",
       "        0.00000000e+00, 9.02324796e-01, 1.51966771e-22, 1.06485653e-14,\n",
       "        0.00000000e+00, 1.22198055e-24, 2.64439336e-07, 3.88348125e-29,\n",
       "        8.80662827e-34, 2.33820671e-15, 0.00000000e+00, 9.85531479e-35,\n",
       "        0.00000000e+00, 1.30209912e-10, 8.46138281e-24, 0.00000000e+00,\n",
       "        3.97355499e-12, 1.26000280e-29, 1.53669976e-24, 1.76600735e-31,\n",
       "        9.84302924e-20, 6.70482864e-38, 2.35148507e-34, 0.00000000e+00,\n",
       "        4.61909351e-20, 7.60438355e-37, 7.08257498e-38, 3.56117013e-28,\n",
       "        7.31910248e-08, 6.67533381e-21, 0.00000000e+00, 0.00000000e+00,\n",
       "        1.00427189e-34, 2.62977164e-28, 6.59380633e-16, 1.33332550e-33,\n",
       "        1.24417245e-17, 3.66226363e-13, 1.60161352e-31, 1.68058705e-28,\n",
       "        3.61127499e-31, 1.46729164e-24, 3.69807067e-16, 2.85826874e-16,\n",
       "        3.39081593e-20, 3.38284265e-36, 1.65217651e-09, 2.41521454e-34,\n",
       "        0.00000000e+00, 1.81780788e-34, 0.00000000e+00, 6.69737593e-27,\n",
       "        0.00000000e+00, 5.12068925e-23, 3.34326384e-37, 3.24624887e-33,\n",
       "        3.95840572e-26, 0.00000000e+00, 2.27377138e-26, 9.51458763e-31,\n",
       "        2.02523370e-04, 1.77872396e-32, 3.16848371e-27, 7.16814900e-13,\n",
       "        6.15067762e-12, 9.59992074e-34, 1.37715707e-14, 5.74568506e-34,\n",
       "        1.70005769e-08, 6.46559144e-35, 1.13381053e-29, 8.48291098e-23,\n",
       "        0.00000000e+00, 1.43254927e-29, 2.71129888e-32, 9.29122627e-01,\n",
       "        4.39436775e-07, 7.71025845e-25, 1.03388447e-34, 5.67033104e-17,\n",
       "        4.11316165e-07, 5.51174874e-16, 2.55968698e-21, 1.09132870e-35,\n",
       "        1.36957447e-35, 0.00000000e+00, 6.86672353e-19, 1.65445832e-18,\n",
       "        1.43760196e-37, 0.00000000e+00, 0.00000000e+00, 5.17860049e-38,\n",
       "        1.35903707e-18, 2.52816108e-06, 0.00000000e+00, 7.88041162e-31,\n",
       "        8.38427767e-37, 1.60443506e-28, 1.23163867e-26, 6.05163591e-20,\n",
       "        0.00000000e+00, 0.00000000e+00, 2.23974919e-19, 0.00000000e+00,\n",
       "        3.02442719e-19, 0.00000000e+00, 5.49827438e-21, 7.18471331e-35,\n",
       "        1.15895027e-22, 0.00000000e+00, 0.00000000e+00, 0.00000000e+00,\n",
       "        2.38031968e-12, 2.95277301e-22, 1.63027548e-33, 6.50590455e-32,\n",
       "        0.00000000e+00, 2.36187263e-12, 1.32918345e-23, 0.00000000e+00,\n",
       "        3.14619309e-14, 3.22248986e-23, 2.34566713e-37, 1.43798784e-19,\n",
       "        9.78264505e-21, 5.96159007e-05, 8.81899653e-27, 2.97012237e-09,\n",
       "        0.00000000e+00, 6.01484857e-23, 7.58588563e-18, 8.00036716e-29,\n",
       "        1.78276257e-28, 8.23818339e-30, 1.02396761e-16, 5.86890926e-37,\n",
       "        0.00000000e+00, 4.39079246e-33, 0.00000000e+00, 2.29679797e-38,\n",
       "        2.99095666e-21, 0.00000000e+00, 7.19961224e-27, 0.00000000e+00,\n",
       "        0.00000000e+00, 1.63497596e-20, 1.85065904e-18, 0.00000000e+00,\n",
       "        1.15076970e-29, 0.00000000e+00, 0.00000000e+00, 2.07422381e-16,\n",
       "        0.00000000e+00, 6.40035543e-23, 1.35251667e-16, 2.36452029e-33,\n",
       "        5.80652332e-33, 8.73366397e-26, 1.51117125e-20, 6.01386176e-08,\n",
       "        3.99932122e-13, 3.52947777e-16, 0.00000000e+00, 2.50356605e-24,\n",
       "        0.00000000e+00, 2.58079572e-14, 4.97771539e-26, 7.11000430e-21,\n",
       "        1.38498340e-36, 2.71732405e-14, 4.78761966e-28, 1.75433391e-35,\n",
       "        0.00000000e+00, 7.98236209e-26, 3.49507922e-34, 2.42551045e-33,\n",
       "        2.24907138e-28, 0.00000000e+00, 3.61648619e-31, 1.57576433e-19,\n",
       "        3.78879884e-25, 5.01930869e-31, 0.00000000e+00, 0.00000000e+00,\n",
       "        4.28595852e-13, 4.27888607e-24, 2.36944927e-26, 2.02224740e-07,\n",
       "        1.49739247e-14, 2.43256647e-37, 2.04008881e-23, 1.13747068e-30,\n",
       "        1.88525413e-17, 0.00000000e+00, 1.78174136e-37, 4.72422778e-37,\n",
       "        1.42195106e-26, 5.91301341e-25, 0.00000000e+00, 0.00000000e+00,\n",
       "        1.20996927e-20, 6.72417081e-37, 1.27342112e-37, 1.69522028e-23,\n",
       "        2.32927453e-25, 1.60624021e-22, 4.16274543e-10, 6.34527792e-20,\n",
       "        5.79263718e-23, 2.28714552e-12, 1.08611809e-17, 7.65394250e-23,\n",
       "        6.41894914e-12, 2.29359539e-29, 5.16788143e-24, 0.00000000e+00,\n",
       "        0.00000000e+00, 9.86802392e-04, 1.07871884e-32, 1.67601454e-11,\n",
       "        4.93638192e-25, 2.72560681e-34, 0.00000000e+00, 0.00000000e+00,\n",
       "        8.18641793e-18, 1.04498740e-18, 0.00000000e+00, 2.05094330e-30,\n",
       "        0.00000000e+00, 0.00000000e+00, 1.30205876e-07, 2.50256447e-31,\n",
       "        3.10792958e-23, 3.26057490e-38, 1.62458709e-20, 1.97409157e-20,\n",
       "        4.49664321e-06, 1.59551750e-21, 2.91461804e-18, 0.00000000e+00,\n",
       "        5.69933840e-20, 2.21522121e-24, 1.22939019e-26, 7.41646496e-33,\n",
       "        2.32491838e-38, 0.00000000e+00, 4.40503242e-27, 1.57410919e-30,\n",
       "        9.72822401e-24, 8.39700032e-26, 4.06430024e-21, 4.15736933e-12,\n",
       "        3.51756254e-12, 0.00000000e+00, 8.71013306e-09, 0.00000000e+00,\n",
       "        0.00000000e+00, 0.00000000e+00, 4.60900935e-08, 3.58225899e-37,\n",
       "        3.10740518e-07, 1.69215208e-22, 2.68356724e-25, 9.99995232e-01,\n",
       "        1.76057746e-14, 1.53683607e-06, 8.92760070e-08, 1.21019092e-20,\n",
       "        0.00000000e+00, 2.99663637e-26, 1.76623104e-22, 1.20543808e-09,\n",
       "        3.18025225e-28, 1.85822538e-10, 8.33116111e-15, 9.06993997e-26,\n",
       "        2.14421536e-11, 0.00000000e+00, 2.95429796e-27, 5.36003280e-23,\n",
       "        0.00000000e+00, 1.03615439e-02, 2.35637048e-11, 1.05430557e-13,\n",
       "        0.00000000e+00, 4.47306618e-29, 0.00000000e+00, 3.14612101e-25,\n",
       "        0.00000000e+00, 4.61721629e-24, 3.25783761e-17, 0.00000000e+00,\n",
       "        1.64140624e-35, 0.00000000e+00, 0.00000000e+00, 1.72465348e-20,\n",
       "        1.50505407e-03, 9.82898984e-10, 1.46729701e-32, 8.59801201e-38,\n",
       "        0.00000000e+00, 2.50341589e-37, 6.71263122e-24, 9.12495299e-32,\n",
       "        3.79563950e-11, 5.31261056e-35, 0.00000000e+00, 0.00000000e+00,\n",
       "        2.32568288e-29, 4.58599053e-38, 3.14946404e-37, 0.00000000e+00,\n",
       "        0.00000000e+00, 0.00000000e+00, 0.00000000e+00, 5.85685889e-28,\n",
       "        7.07704939e-35, 1.21774823e-13, 3.50854437e-34, 1.79000408e-38,\n",
       "        4.52737760e-12, 2.61115140e-11, 0.00000000e+00, 0.00000000e+00,\n",
       "        2.65180989e-23, 9.41089207e-10, 6.20870992e-07, 0.00000000e+00,\n",
       "        1.96145849e-20, 3.97156874e-24, 4.21203327e-24, 3.24759748e-34,\n",
       "        1.86166197e-26, 1.03823069e-29, 1.15849636e-27, 0.00000000e+00,\n",
       "        4.07709127e-23, 0.00000000e+00, 3.33418376e-29, 2.94722524e-22,\n",
       "        0.00000000e+00, 3.59091868e-15, 1.13461563e-36, 0.00000000e+00,\n",
       "        2.93561286e-29, 5.68990310e-30, 7.93648999e-32, 0.00000000e+00,\n",
       "        2.19221467e-22, 0.00000000e+00, 2.22924510e-29, 0.00000000e+00,\n",
       "        1.14269382e-15, 0.00000000e+00, 0.00000000e+00, 0.00000000e+00,\n",
       "        0.00000000e+00, 2.01545513e-20, 0.00000000e+00, 1.33057444e-29,\n",
       "        0.00000000e+00, 4.73549473e-26, 0.00000000e+00, 3.47120396e-33,\n",
       "        1.06474508e-32, 2.26252349e-26, 5.37125085e-30, 0.00000000e+00,\n",
       "        9.01494681e-28, 3.45144386e-37, 7.54718838e-38, 8.74940717e-25,\n",
       "        0.00000000e+00, 0.00000000e+00, 0.00000000e+00, 7.30064791e-33,\n",
       "        2.06881040e-24, 4.31309130e-37, 9.71713814e-23, 1.46360094e-33,\n",
       "        6.02181841e-26, 4.30455960e-15, 3.01155560e-05, 8.48134019e-27,\n",
       "        2.40148075e-11, 6.87968110e-25, 0.00000000e+00, 1.19918343e-22,\n",
       "        1.74980072e-37, 2.51098788e-32, 8.97275923e-33, 4.72823142e-14,\n",
       "        0.00000000e+00, 0.00000000e+00, 3.56375425e-27, 1.31149867e-17,\n",
       "        1.54340448e-37, 0.00000000e+00, 2.76044838e-36, 2.21042996e-21,\n",
       "        0.00000000e+00, 8.54941906e-36, 6.59965492e-28, 2.57270705e-28,\n",
       "        2.77686093e-36, 3.21605131e-25, 1.71179251e-10, 0.00000000e+00,\n",
       "        2.45691099e-26, 0.00000000e+00, 1.59555729e-17, 0.00000000e+00,\n",
       "        0.00000000e+00, 4.34950514e-23, 2.51263610e-13, 7.29680586e-18,\n",
       "        0.00000000e+00, 8.92881081e-34, 1.68160158e-19, 0.00000000e+00,\n",
       "        9.80484530e-12, 4.00028476e-27, 3.20459309e-15, 1.28319333e-37,\n",
       "        1.55208196e-04, 7.50559454e-21, 0.00000000e+00]], dtype=float32)"
      ]
     },
     "execution_count": 201,
     "metadata": {},
     "output_type": "execute_result"
    }
   ],
   "source": [
    "predict"
   ]
  },
  {
   "cell_type": "code",
   "execution_count": 81,
   "metadata": {},
   "outputs": [],
   "source": [
    "predict_list=list()\n",
    "for items in predict:\n",
    "    aux = list()\n",
    "    for el in items:\n",
    "        if el > .5:\n",
    "            aux.append(1)\n",
    "        else:\n",
    "            aux.append(0)\n",
    "    predict_list.append(aux)"
   ]
  },
  {
   "cell_type": "code",
   "execution_count": 38,
   "metadata": {},
   "outputs": [],
   "source": [
    "labels = [str(i) for i in range(455)]"
   ]
  },
  {
   "cell_type": "code",
   "execution_count": 104,
   "metadata": {},
   "outputs": [],
   "source": [
    "from sklearn.metrics import f1_score, average_precision_score, precision_score, recall_score\n"
   ]
  },
  {
   "cell_type": "code",
   "execution_count": 105,
   "metadata": {},
   "outputs": [
    {
     "name": "stderr",
     "output_type": "stream",
     "text": [
      "/home/mobility/anaconda/envs/michael_env/lib/python3.6/site-packages/sklearn/metrics/classification.py:1135: UndefinedMetricWarning: F-score is ill-defined and being set to 0.0 in labels with no predicted samples.\n",
      "  'precision', 'predicted', average, warn_for)\n",
      "/home/mobility/anaconda/envs/michael_env/lib/python3.6/site-packages/sklearn/metrics/classification.py:1137: UndefinedMetricWarning: F-score is ill-defined and being set to 0.0 in labels with no true samples.\n",
      "  'recall', 'true', average, warn_for)\n"
     ]
    },
    {
     "name": "stdout",
     "output_type": "stream",
     "text": [
      "0.9347092742811166\n",
      "0.9002030878988591\n"
     ]
    },
    {
     "name": "stderr",
     "output_type": "stream",
     "text": [
      "/home/mobility/anaconda/envs/michael_env/lib/python3.6/site-packages/sklearn/metrics/classification.py:1135: UndefinedMetricWarning: Precision is ill-defined and being set to 0.0 in labels with no predicted samples.\n",
      "  'precision', 'predicted', average, warn_for)\n"
     ]
    },
    {
     "name": "stdout",
     "output_type": "stream",
     "text": [
      "0.9497639579605351\n",
      "0.9239992411307152\n"
     ]
    },
    {
     "name": "stderr",
     "output_type": "stream",
     "text": [
      "/home/mobility/anaconda/envs/michael_env/lib/python3.6/site-packages/sklearn/metrics/classification.py:1137: UndefinedMetricWarning: Recall is ill-defined and being set to 0.0 in labels with no true samples.\n",
      "  'recall', 'true', average, warn_for)\n"
     ]
    }
   ],
   "source": [
    "print(f1_score(y_test, np.array(predict_list), average='weighted'))\n",
    "print(average_precision_score(y_test, predict_list, average='samples'))\n",
    "print(precision_score(y_test, np.array(predict_list), average='weighted'))\n",
    "print(recall_score(y_test, np.array(predict_list), average='weighted'))"
   ]
  },
  {
   "cell_type": "code",
   "execution_count": 102,
   "metadata": {},
   "outputs": [
    {
     "data": {
      "text/plain": [
       "(list, numpy.ndarray)"
      ]
     },
     "execution_count": 102,
     "metadata": {},
     "output_type": "execute_result"
    }
   ],
   "source": [
    "type(predict_list), type(y_test)"
   ]
  },
  {
   "cell_type": "code",
   "execution_count": 93,
   "metadata": {},
   "outputs": [
    {
     "data": {
      "text/plain": [
       "array([ True,  True,  True,  True,  True,  True,  True,  True,  True,\n",
       "        True,  True,  True,  True,  True,  True,  True,  True,  True,\n",
       "        True,  True,  True,  True,  True,  True,  True,  True,  True,\n",
       "        True,  True,  True,  True,  True,  True,  True,  True,  True,\n",
       "        True,  True,  True,  True,  True,  True,  True,  True,  True,\n",
       "        True,  True,  True,  True,  True,  True,  True,  True,  True,\n",
       "        True,  True,  True,  True,  True,  True,  True,  True,  True,\n",
       "        True,  True,  True,  True,  True,  True,  True,  True,  True,\n",
       "        True,  True,  True,  True,  True,  True,  True,  True,  True,\n",
       "        True,  True,  True,  True,  True,  True,  True,  True,  True,\n",
       "        True,  True,  True,  True,  True,  True,  True,  True,  True,\n",
       "        True,  True,  True,  True,  True,  True,  True,  True,  True,\n",
       "        True,  True,  True,  True,  True,  True,  True,  True,  True,\n",
       "        True,  True,  True,  True,  True,  True,  True,  True,  True,\n",
       "        True,  True,  True,  True,  True,  True,  True,  True,  True,\n",
       "        True,  True,  True,  True,  True,  True,  True,  True,  True,\n",
       "        True,  True,  True,  True,  True,  True,  True,  True,  True,\n",
       "        True,  True,  True,  True,  True,  True,  True,  True,  True,\n",
       "        True,  True,  True,  True,  True,  True,  True,  True,  True,\n",
       "        True,  True,  True,  True,  True,  True,  True,  True,  True,\n",
       "        True,  True,  True,  True,  True,  True,  True,  True,  True,\n",
       "        True,  True,  True,  True,  True,  True,  True,  True,  True,\n",
       "        True,  True,  True,  True,  True,  True,  True,  True,  True,\n",
       "        True,  True,  True,  True,  True,  True,  True,  True,  True,\n",
       "        True,  True,  True,  True,  True,  True,  True,  True,  True,\n",
       "        True,  True,  True,  True,  True,  True,  True,  True,  True,\n",
       "        True,  True,  True,  True,  True,  True,  True,  True,  True,\n",
       "        True,  True,  True,  True,  True,  True,  True,  True,  True,\n",
       "        True,  True,  True,  True,  True,  True,  True,  True,  True,\n",
       "        True,  True,  True,  True,  True,  True,  True,  True,  True,\n",
       "        True,  True,  True,  True,  True,  True,  True,  True,  True,\n",
       "        True,  True,  True,  True,  True,  True,  True,  True,  True,\n",
       "        True,  True,  True,  True,  True,  True,  True,  True,  True,\n",
       "        True,  True,  True,  True,  True,  True,  True,  True,  True,\n",
       "        True,  True,  True,  True,  True,  True,  True,  True,  True,\n",
       "        True,  True,  True,  True,  True,  True,  True,  True,  True,\n",
       "        True,  True,  True,  True,  True,  True,  True,  True,  True,\n",
       "        True,  True,  True,  True,  True,  True,  True,  True,  True,\n",
       "        True,  True,  True,  True,  True,  True,  True,  True,  True,\n",
       "        True,  True,  True,  True,  True,  True,  True,  True,  True,\n",
       "        True,  True,  True,  True,  True,  True,  True,  True,  True,\n",
       "        True,  True,  True,  True,  True,  True,  True,  True,  True,\n",
       "        True,  True,  True,  True,  True,  True,  True,  True,  True,\n",
       "        True,  True,  True,  True,  True,  True,  True,  True,  True,\n",
       "        True,  True,  True,  True,  True,  True,  True,  True,  True,\n",
       "        True,  True,  True,  True,  True,  True,  True,  True,  True,\n",
       "        True,  True,  True,  True,  True,  True,  True,  True,  True,\n",
       "        True,  True,  True,  True,  True,  True,  True,  True,  True,\n",
       "        True,  True,  True,  True,  True,  True,  True,  True,  True,\n",
       "        True,  True,  True,  True,  True,  True,  True,  True,  True,\n",
       "        True,  True,  True,  True,  True])"
      ]
     },
     "execution_count": 93,
     "metadata": {},
     "output_type": "execute_result"
    }
   ],
   "source": [
    "y_test[1000] == np.array(predict_list[1000])"
   ]
  },
  {
   "cell_type": "code",
   "execution_count": 89,
   "metadata": {},
   "outputs": [
    {
     "data": {
      "text/plain": [
       "array([0, 0, 0, 0, 0, 0, 0, 1, 0, 0, 0, 0, 0, 0, 0, 0, 0, 0, 0, 0, 0, 0,\n",
       "       0, 0, 0, 0, 0, 0, 0, 0, 0, 0, 0, 0, 0, 0, 0, 0, 0, 0, 0, 0, 0, 0,\n",
       "       0, 0, 0, 0, 0, 0, 0, 0, 0, 0, 0, 0, 0, 0, 0, 0, 0, 0, 0, 0, 0, 0,\n",
       "       0, 0, 0, 0, 0, 0, 0, 0, 0, 0, 0, 0, 0, 0, 0, 0, 0, 0, 0, 0, 0, 0,\n",
       "       0, 0, 0, 0, 0, 0, 0, 0, 0, 0, 0, 0, 0, 0, 0, 0, 0, 0, 0, 0, 0, 0,\n",
       "       0, 0, 0, 0, 0, 0, 0, 0, 0, 0, 0, 0, 0, 0, 0, 0, 0, 0, 0, 0, 0, 0,\n",
       "       0, 0, 0, 0, 0, 0, 0, 0, 0, 0, 0, 0, 0, 0, 0, 0, 0, 0, 0, 0, 0, 0,\n",
       "       0, 0, 0, 0, 0, 0, 0, 0, 0, 0, 0, 0, 0, 0, 0, 0, 0, 0, 0, 0, 0, 0,\n",
       "       0, 0, 0, 0, 0, 0, 0, 0, 0, 0, 0, 0, 0, 0, 0, 0, 0, 0, 0, 0, 0, 0,\n",
       "       0, 0, 0, 0, 0, 0, 0, 0, 0, 0, 0, 0, 0, 0, 0, 0, 0, 0, 0, 0, 0, 0,\n",
       "       0, 0, 0, 0, 0, 0, 0, 0, 0, 0, 0, 0, 0, 0, 0, 0, 0, 0, 0, 0, 0, 0,\n",
       "       0, 0, 0, 0, 0, 0, 0, 0, 0, 0, 0, 0, 0, 0, 0, 0, 0, 0, 0, 0, 0, 0,\n",
       "       0, 0, 0, 0, 0, 0, 0, 0, 0, 0, 0, 0, 0, 0, 0, 0, 0, 0, 0, 0, 0, 0,\n",
       "       1, 0, 0, 0, 0, 0, 0, 0, 0, 0, 0, 0, 0, 0, 0, 0, 0, 0, 0, 0, 0, 0,\n",
       "       0, 0, 0, 0, 0, 0, 0, 0, 0, 0, 0, 0, 0, 0, 0, 0, 0, 0, 0, 0, 0, 0,\n",
       "       0, 0, 0, 0, 0, 0, 0, 0, 0, 0, 0, 0, 0, 0, 0, 0, 0, 0, 0, 0, 0, 0,\n",
       "       0, 0, 0, 0, 0, 0, 0, 0, 0, 0, 0, 0, 0, 0, 0, 0, 0, 0, 0, 0, 0, 0,\n",
       "       0, 0, 0, 0, 0, 0, 0, 0, 0, 0, 0, 0, 0, 0, 0, 0, 0, 0, 0, 0, 0, 0,\n",
       "       0, 0, 0, 0, 0, 0, 0, 0, 0, 0, 0, 0, 0, 0, 0, 0, 0, 0, 0, 0, 0, 0,\n",
       "       0, 0, 0, 0, 0, 1, 0, 0, 0, 0, 0, 0, 0, 0, 0, 0, 0, 0, 0, 0, 0, 0,\n",
       "       0, 0, 0, 0, 0, 0, 0, 0, 0, 0, 0, 0, 0, 0, 0])"
      ]
     },
     "execution_count": 89,
     "metadata": {},
     "output_type": "execute_result"
    }
   ],
   "source": [
    "y_test[100]"
   ]
  }
 ],
 "metadata": {
  "kernelspec": {
   "display_name": "Python 3",
   "language": "python",
   "name": "python3"
  },
  "language_info": {
   "codemirror_mode": {
    "name": "ipython",
    "version": 3
   },
   "file_extension": ".py",
   "mimetype": "text/x-python",
   "name": "python",
   "nbconvert_exporter": "python",
   "pygments_lexer": "ipython3",
   "version": "3.6.8"
  }
 },
 "nbformat": 4,
 "nbformat_minor": 2
}
